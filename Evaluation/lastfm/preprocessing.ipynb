{
 "cells": [
  {
   "cell_type": "code",
   "execution_count": 96,
   "metadata": {},
   "outputs": [],
   "source": [
    "import requests \n",
    "import os\n",
    "import pickle\n",
    "import time\n",
    "import pandas as pd"
   ]
  },
  {
   "cell_type": "code",
   "execution_count": 65,
   "metadata": {},
   "outputs": [],
   "source": [
    "def pickle_out(name, obj, default_path='./sub_result/'):\n",
    "    pickle_out = open(default_path + name + '.pickle','wb')\n",
    "    pickle.dump(obj, pickle_out)\n",
    "    pickle_out.close()\n",
    "    return\n",
    "\n",
    "def pickle_in(name, default_path='./sub_result/'):\n",
    "    pickle_in = open(default_path + name + '.pickle','rb')\n",
    "    obj = pickle.load(pickle_in)\n",
    "    pickle_in.close()\n",
    "    return obj"
   ]
  },
  {
   "cell_type": "code",
   "execution_count": 463,
   "metadata": {},
   "outputs": [],
   "source": [
    "desc_dir = './dataset/KGRec-dataset/descriptions/'\n",
    "tags_dir = './dataset/KGRec-dataset/tags/'"
   ]
  },
  {
   "cell_type": "markdown",
   "metadata": {},
   "source": [
    "# Dictionary for track_id -> description "
   ]
  },
  {
   "cell_type": "code",
   "execution_count": 464,
   "metadata": {},
   "outputs": [],
   "source": [
    "desc_dict = {}\n",
    "for root, dirs, files in os.walk(desc_dir):\n",
    "    for f in files:\n",
    "        full_path = root + f\n",
    "        with open(full_path, 'r') as read_file:\n",
    "            lines = read_file.readlines()\n",
    "            lines = ' '.join(lines)\n",
    "            lines = lines.replace('\\n', '')\n",
    "            text = lines[:4000]\n",
    "            text = text.replace('#', '')\n",
    "            text = text.replace(':', '')\n",
    "            text = text.replace('`', '')\n",
    "            text = text.replace('@', '')\n",
    "            desc_dict[int(f.split('.')[0])] = text"
   ]
  },
  {
   "cell_type": "markdown",
   "metadata": {},
   "source": [
    "# Dictionary for track_id -> tags"
   ]
  },
  {
   "cell_type": "code",
   "execution_count": 465,
   "metadata": {},
   "outputs": [],
   "source": [
    "tags_dict = {}\n",
    "for root, dirs, files in os.walk(tags_dir):\n",
    "    for f in files:\n",
    "        full_path = root + f\n",
    "        with open(full_path, 'r') as read_file:\n",
    "            lines = read_file.readlines()\n",
    "            if lines:\n",
    "                lines = ' '.join(lines)\n",
    "                text = lines[:1500]\n",
    "                text = text.replace('#', '')\n",
    "                text = text.replace(':', '')\n",
    "                text = text.replace('`', '')\n",
    "                text = text.replace('@', '')\n",
    "                tags_dict[int(f.split('.')[0])] = text"
   ]
  },
  {
   "cell_type": "code",
   "execution_count": 466,
   "metadata": {},
   "outputs": [],
   "source": [
    "pickle_out('desc_dict', desc_dict)\n",
    "pickle_out('tags_dict', tags_dict)"
   ]
  },
  {
   "cell_type": "code",
   "execution_count": 467,
   "metadata": {},
   "outputs": [
    {
     "name": "stdout",
     "output_type": "stream",
     "text": [
      "# of total tracks: 8640\n"
     ]
    }
   ],
   "source": [
    "track_id_list = sorted(list(set(desc_dict.keys()) | set(tags_dict.keys())))\n",
    "pickle_out('track_id_list', track_id_list)\n",
    "print(f'# of total tracks: {len(track_id_list)}')"
   ]
  },
  {
   "cell_type": "code",
   "execution_count": 468,
   "metadata": {},
   "outputs": [],
   "source": [
    "merged_text_dict = {}\n",
    "for idx in track_id_list:\n",
    "    merged_text = ''\n",
    "    if idx in desc_dict:\n",
    "        merged_text += desc_dict[idx]\n",
    "    if idx in tags_dict:\n",
    "        merged_text += tags_dict[idx]\n",
    "    merged_text_dict[idx] = merged_text"
   ]
  },
  {
   "cell_type": "code",
   "execution_count": 469,
   "metadata": {},
   "outputs": [],
   "source": [
    "pickle_out('merged_text_dict', merged_text_dict)"
   ]
  },
  {
   "cell_type": "code",
   "execution_count": 475,
   "metadata": {},
   "outputs": [],
   "source": [
    "# babelnet user api key\n",
    "key1 = 'aad4522a-5d4a-44a9-8547-294ec523dab9'\n",
    "key2 = '6ff8c462-16a7-478c-b2e6-e70dc48fe678'\n",
    "key3 = '6f14fa68-12e9-487c-af7d-759dc64ef2eb'\n",
    "key4 = '7c1c1ae5-deee-4b02-882c-14f1ec04feef'\n",
    "key5 = '93ba3e99-19db-42e3-9c39-132ad80c0720'\n",
    "key6 = '9bb94618-1028-48b8-ac3d-9eac001ed668'\n",
    "key7 = '9cdfc33e-3661-48df-a02c-4283b1c09504'\n",
    "key8 = 'a2565707-778e-41d3-801d-bed548c81b2e'\n",
    "key9 = 'f1fac4d0-ad75-4b07-87e5-d0eb2d997c60'\n",
    "\n",
    "t1 = track_id_list[:1000]\n",
    "t2 = track_id_list[1000:2000]\n",
    "t3 = track_id_list[2000:3000]\n",
    "t4 = track_id_list[3000:4000]\n",
    "t5 = track_id_list[4000:5000]\n",
    "t6 = track_id_list[5000:6000]\n",
    "t7 = track_id_list[6000:7000]\n",
    "t8 = track_id_list[7000:8000]\n",
    "t9 = track_id_list[8000:]\n",
    "\n",
    "request_list = \\\n",
    "[(key1, t1),  (key2, t2),  (key3, t3),\n",
    " (key4, t4),  (key5, t5),  (key6, t6),\n",
    " (key7, t7),  (key8, t8),  (key9, t9)]"
   ]
  },
  {
   "cell_type": "code",
   "execution_count": 472,
   "metadata": {},
   "outputs": [
    {
     "data": {
      "text/plain": [
       "[1, 2, 3, 4, 5]"
      ]
     },
     "execution_count": 472,
     "metadata": {},
     "output_type": "execute_result"
    }
   ],
   "source": [
    "babelnet_dict = {}"
   ]
  },
  {
   "cell_type": "code",
   "execution_count": 486,
   "metadata": {
    "scrolled": true
   },
   "outputs": [
    {
     "name": "stdout",
     "output_type": "stream",
     "text": [
      "800 idx is being processed.\n",
      "900 idx is being processed.\n",
      "1000 idx is being processed.\n",
      "HTTPSConnectionPool(host='babelfy.io', port=443): Max retries exceeded with url: /v1/disambiguate?text=This%20features%20the%20R&B%20singer-songwriter%20Ne-Yo%20.%20Jadakiss%20explained%20to%20MTV%20News%20that%20this%20song%20is%20%20for%20the%20ladies%20.%20''%20He%20added%20.%20%20We%20trying%20to%20make%20big%20music%20.%20We%20're%20trying%20to%20do%20it%20big%20for%20the%20ladies%20.%20-LSB-%20The%20women%20-RSB-%20still%20gon%20na%20cop%20before%20they%20get%20their%20hair%20and%20nails%20done%20,%20so%20we%20got%20ta%20cater%20to%20them%20.%20We%20gon%20na%20always%20show%20love%20to%20the%20streets%20,%20but%20we%20got%20ta%20show%20the%20ladies%20we%20acknowledging%20them%20this%20year%20.%20Heavy%20!%20''kiss%20USA%20deutsch%20jadakiss%20New-York-City%20rap%20NYC%20LOX%20chillin%20hip-hop%20ny%20rnb%20new-york%20rabbit%20america%20schrockstar%20JipJop%2050-Cent%20Jada%20by-my-side%20american%20Sommer&lang=en&key=6ff8c462-16a7-478c-b2e6-e70dc48fe678 (Caused by SSLError(SSLError(\"bad handshake: SysCallError(-1, 'Unexpected EOF')\"))) 1014\n",
      "1100 idx is being processed.\n",
      "1200 idx is being processed.\n",
      "1300 idx is being processed.\n",
      "1400 idx is being processed.\n",
      "1500 idx is being processed.\n",
      "1600 idx is being processed.\n",
      "1700 idx is being processed.\n",
      "1800 idx is being processed.\n",
      "1900 idx is being processed.\n",
      "2000 idx is being processed.\n",
      "2100 idx is being processed.\n",
      "2200 idx is being processed.\n",
      "2300 idx is being processed.\n",
      "2400 idx is being processed.\n",
      "2500 idx is being processed.\n",
      "2600 idx is being processed.\n",
      "2700 idx is being processed.\n",
      "2800 idx is being processed.\n",
      "2900 idx is being processed.\n",
      "3000 idx is being processed.\n",
      "3100 idx is being processed.\n",
      "3200 idx is being processed.\n",
      "3300 idx is being processed.\n",
      "3400 idx is being processed.\n",
      "('Connection aborted.', RemoteDisconnected('Remote end closed connection without response')) 3462\n",
      "HTTPSConnectionPool(host='babelfy.io', port=443): Max retries exceeded with url: /v1/disambiguate?text=This%20is%20the%20first%20single%20from%20Coheed%20and%20Cambria%20's%20double%20album%20The%20Afterman%20,%20which%20is%20split%20into%20two%20parts%20,%20The%20Afterman%20%20Ascension%20and%20The%20Afterman%20%20Descension%20.%20As%20with%20the%20band%20's%20previous%20releases%20,%20the%20pair%20of%20LPs%20are%20part%20of%20their%20ongoing%20story%20series%20called%20The%20Amory%20Wars%20.%20The%20two%20Afterman%20records%20focus%20on%20a%20character%20named%20Sirius%20Amory%20,%20a%20scientist%20who%20discovers%20an%20energy%20force%20known%20as%20The%20Keywork%20that%20can%20connect%20the%20universe%20's%2078%20planets%20together%20.%20Said%20frontman%20Claudio%20Sanchez%20%20%20This%20is%20without%20a%20doubt%20,%20the%20most%20honest%20record%20I%20've%20ever%20written%20.%20Though%20all%20the%20songs%20can%20be%20interpreted%20through%20our%20main%20character%20in%20the%20story%20,%20they%20were%20initially%20written%20in%20a%20very%20spontaneous%20manner.In%20the%20past%20,%20I%20've%20always%20had%20a%20predetermined%20idea%20of%20what%20the%20story%20was%20going%20to%20be%20when%20I%20approached%20the%20songs%20.%20With%20The%20Afterman%20being%20a%20new%20story%20within%20The%20Amory%20Wars%20arc%20,%20I%20allowed%20the%20events%20of%20my%20life%20to%20drive%20the%20concept%20,%20and%20therefore%20opened%20up%20the%20songwriting%20to%20a%20fuller%20degree%20.%20''%20Robert%20Schober%20,%20whose%20previous%20work%20includes%20visuals%20for%20the%20likes%20of%20The%20Killers%20,%20Mastodon%20,%20Metallica%20and%20My%20Chemical%20Romance%20,%20directed%20the%20dark%20,%20cinematic%20boxing-themed%20video%20.%20The%20band%20explained%20on%20their%20Facebook%20page%20how%20this%20song%20fits%20into%20the%20their%20ongoing%20The%20Amory%20Wars%20storyline%20%20%20When%20Sirius%20enters%20the%20Keywork%20,%20he%20realizes%20this%20energy%20force%20is%20wholly%20made%20up%20of%20human%20souls%20.%20This%20is%20their%20first%20contact%20with%20a%20human%20since%20they%20were%20living%20-%20The%20first%20soul%20to%20take%20over%20Sirius%20,%20to%20possess%20him%20,%20is%20Domino%20the%20Destitute%20.%20Sirius%20must%20now%20experience%20Domino%20's%20life%20as%20he%20lived%20it%20.%20Keywork%20Entity%20Extraction%20I.%20''%20Sanchez%20described%20this%20song%20during%20a%20track%20by%20track%20interview%20with%20Billboard%20magazine%20as%20an%20anthem%20inspired%20by%20the%20departure%20of%20bassist%20Mic%20Todd%20from%20the%20band%20.%20%20It%20's%20sort%20of%20a%20play%20on%20the%20rise%20of%20this%20champion%20,%20only%20to%20find%20that%20that%20rise%20is%20really%20actually%20his%20demise%20,%20and%20all%20the%20things%20that%20come%20with%20that%20attention%20,%20''%20he%20said.Todd%20parted%20ways%20with%20Coheed%20and%20Cambria%20after%20being%20arrested%20for%20armed%20robbery%20and%20unlawful%20possession%20of%20narcotics%20.%20He%20'd%20reportedly%20robbed%20a%20Walgreens%20pharmacy%20in%20Attleboro%20,%20Massachusetts%20whilst%20touring%20with%20Soundgarden%20.&lang=en&key=7c1c1ae5-deee-4b02-882c-14f1ec04feef (Caused by NewConnectionError('<urllib3.connection.VerifiedHTTPSConnection object at 0x130d2fb50>: Failed to establish a new connection: [Errno 60] Operation timed out')) 3463\n",
      "3500 idx is being processed.\n",
      "3600 idx is being processed.\n",
      "3700 idx is being processed.\n",
      "3800 idx is being processed.\n",
      "3900 idx is being processed.\n",
      "4000 idx is being processed.\n",
      "4100 idx is being processed.\n",
      "4200 idx is being processed.\n",
      "4300 idx is being processed.\n",
      "4400 idx is being processed.\n",
      "4500 idx is being processed.\n",
      "4600 idx is being processed.\n",
      "4700 idx is being processed.\n",
      "4800 idx is being processed.\n",
      "4900 idx is being processed.\n",
      "5000 idx is being processed.\n",
      "5100 idx is being processed.\n",
      "5200 idx is being processed.\n",
      "5300 idx is being processed.\n",
      "5400 idx is being processed.\n",
      "5500 idx is being processed.\n",
      "5600 idx is being processed.\n",
      "5700 idx is being processed.\n",
      "5800 idx is being processed.\n",
      "5900 idx is being processed.\n",
      "6000 idx is being processed.\n",
      "6100 idx is being processed.\n",
      "6200 idx is being processed.\n",
      "6300 idx is being processed.\n",
      "6400 idx is being processed.\n",
      "6500 idx is being processed.\n",
      "6600 idx is being processed.\n",
      "6700 idx is being processed.\n",
      "6800 idx is being processed.\n",
      "6900 idx is being processed.\n",
      "7000 idx is being processed.\n",
      "7100 idx is being processed.\n",
      "('Connection aborted.', RemoteDisconnected('Remote end closed connection without response')) 7174\n",
      "7200 idx is being processed.\n",
      "7300 idx is being processed.\n",
      "7400 idx is being processed.\n",
      "7500 idx is being processed.\n",
      "7600 idx is being processed.\n",
      "7700 idx is being processed.\n",
      "HTTPSConnectionPool(host='babelfy.io', port=443): Max retries exceeded with url: /v1/disambiguate?text=This%20is%20the%20first%20single%20from%20Scream%20,%20the%20tenth%20studio%20album%20by%20English%20heavy%20metal%20singer%20Ozzy%20Osbourne%20.%20It%20is%20Ozzy%20's%20first%20release%20to%20feature%20new%20guitarist%20Gus%20G.%20-LRB-%20Firewind%20-RRB-%20.%20The%20album%20's%20original%20title%20was%20Soul%20Sucka%20,%20but%20following%20negative%20feedback%20from%20fans%20,%20Ozzy%20published%20a%20list%20of%20other%20possible%20names%20and%20asked%20fans%20to%20vote%20.%20They%20eventually%20decided%20on%20Scream%20.%20The%20single%20was%20premiered%20in%20the%20US%20on%20an%20episode%20of%20CSI%20%20NY%20,%20which%20was%20broadcast%20on%20April%2014%20,%202010%20.%20%20We%20were%20looking%20for%20something%20high%20energy%20and%20irreverent%20to%20sell%20the%20madness%20of%20a%20prison%20riot%20,%20''%20said%20executive%20producer%20and%20episode%20writer%20Peter%20M.%20Lenkov%20about%20the%20use%20of%20the%20song%20.%20%20We%20immediately%20responded%20to%20the%20new%20Osbourne%20tune%20.%20The%20song%20exceeded%20our%20expectations%20and%20brought%20exactly%20the%20right%20tone%20to%20the%20episode%20.%20%20Ozzy%20,%20who%20spent%20time%20in%20prison%20in%20the%20UK%20for%20burglary%20before%20his%2018th%20birthday%20said%20%20%20When%20I%20heard%20they%20were%20going%20to%20use%20%20Let%20Me%20Hear%20You%20Scream%20'%20for%20a%20prison%20riot%20scene%20,%20I%20thought%20,%20%20Well%20,%20now%20that%20's%20something%20I%20know%20about%20.%20'%20''%20Gus%20G%20told%20Musicradar.com%20about%20recording%20his%20solo%20for%20this%20song%20%20%20Let%20Me%20Hear%20You%20Scream%20was%20written%20quite%20a%20few%20times%20.%20The%20lyrics%20kept%20changing%20,%20the%20riffs%20kept%20changing%20,%20the%20arrangement%20changed%20back%20and%20forth%20.%20Originally%20,%20I%20did%20a%20whammy%20pedal%20solo%20,%20only%20I%20do%20n't%20really%20know%20how%20to%20use%20a%20whammy%20pedal%20.%20So%20I%20did%20some%20crazy%20s%20--%20t%20with%20high%20octaves%20,%20which%20sounded%20OK%20.%20But%20then%20the%20lyrics%20changed%20again%20,%20so%20I%20had%20to%20think%20of%20another%20type%20of%20solo%20-%20that%20's%20the%20one%20that%20ended%20up%20on%20the%20final%20recording%20.%20''summer%20stfu%20gaming-music%20alternative%20slgdmbestof%20ozzy%20privat%20New-Guitar-Player-SUCKS%20British-Metal%204%20New-Wave-of-British-Heavy-Metal%202010%20Stoner-Rock%20workplace-mix-radio-ccpl%20playlist-ccpl%20death-metal%20wakeup%20british-hard-rock%20ahhhhh%20lacrimaindarkness%20rock%20fucking-amazing%20classic-rock%202010s-rock%20FUCKING-AWESOME%20010s%20classic-hard-rock%20Vernons-songs%20Classic-British-Metal%202010s%209-lbs-hammer%20rock-band-dlc%202010s-Metal%20classic-British-rock%20Classic-British-Hard-Rock%20black-sabbath-family%20hard-rock%20british-rock%20z-kopem%20rock-radio-ccpl%2070s%20love-this-1%20radioultra%20british%20Rebel-TV%20Good-comeback%20psychometal%20classic-british-heavy-metal%20awakes-old-memories%20meltdown-ccpl%20wicked-riffs%20pretty-fucking-good-actually%20DEMX%20Let-Me-Hear-You-Scream%205-of-10-stars%20madden%20classic-heavy-metal%20Favourite-Songs%20life%20Columbine%20classic-metal%20slgdm%20rock-band%20psycho-metal%20british-heavy-metal%20look-behind-you%20loved%20PsychoMetal4Life%20Awesome%20Cleveland%20thrash-metal%20let-me-hear-u-scream%20crazy%20alternative-rock%20The-best-songs%20hr-hrr%20hard-rock-and-metal%20over-the-mountian%20great-metal-song%20Black-Sabbath%20Prince-of-Darkness%20project961%20male-vocalists%2080s%20party-music%20Heath%20doom-metal%20favorites%20ozzy-osbourne-let-me-hear-you-scream%20mrrrr%20metal%20Ozzy-Osbourne%2010s%20battlecry%20heavy-metal&lang=en&key=a2565707-778e-41d3-801d-bed548c81b2e (Caused by NewConnectionError('<urllib3.connection.VerifiedHTTPSConnection object at 0x1680b7950>: Failed to establish a new connection: [Errno 60] Operation timed out')) 7790\n"
     ]
    },
    {
     "name": "stdout",
     "output_type": "stream",
     "text": [
      "7800 idx is being processed.\n",
      "7900 idx is being processed.\n",
      "8000 idx is being processed.\n",
      "8100 idx is being processed.\n",
      "8200 idx is being processed.\n",
      "8300 idx is being processed.\n",
      "8400 idx is being processed.\n",
      "8500 idx is being processed.\n",
      "8600 idx is being processed.\n"
     ]
    }
   ],
   "source": [
    "URL_prefix = 'https://babelfy.io/v1/disambiguate?text='\n",
    "for (key, t) in request_list:\n",
    "    for idx in t:\n",
    "        if not idx in babelnet_dict:\n",
    "            try:\n",
    "                text = merged_text_dict[idx]\n",
    "                URL = URL_prefix + text + '&lang=en&key=' + key\n",
    "                r = requests.get(url = URL, headers={'Accept-Encoding': 'identity'})\n",
    "                babelnet_dict[idx] = r\n",
    "                if idx % 100 == 0:\n",
    "                    print(f'{idx} idx is being processed.')\n",
    "                time.sleep(0.05)\n",
    "            except BaseException as e:\n",
    "                print(e, idx)"
   ]
  },
  {
   "cell_type": "code",
   "execution_count": 518,
   "metadata": {},
   "outputs": [],
   "source": [
    "non_ok_key = []\n",
    "for key in track_id_list:\n",
    "    if (not key in babelnet_dict)\\\n",
    "        or (not babelnet_dict[key].ok)\\\n",
    "        or (not isinstance(babelnet_dict[key].json(), list)):\n",
    "        non_ok_key.append(key)"
   ]
  },
  {
   "cell_type": "code",
   "execution_count": 517,
   "metadata": {},
   "outputs": [
    {
     "name": "stdout",
     "output_type": "stream",
     "text": [
      "0 idx is being processed.\n"
     ]
    }
   ],
   "source": [
    "URL_prefix = 'https://babelfy.io/v1/disambiguate?text='\n",
    "\n",
    "for i, idx in enumerate(non_ok_key):\n",
    "    try:\n",
    "        text = merged_text_dict[idx]\n",
    "        URL = URL_prefix + text + '&lang=EN&key=' + key\n",
    "        r = requests.get(url = URL, headers={'Accept-Encoding': 'identity'})\n",
    "        babelnet_dict[idx] = r\n",
    "        if i % 100 == 0:\n",
    "            print(f'{i} idx is being processed.')\n",
    "        time.sleep(0.1)\n",
    "    except BaseException as e:\n",
    "        print(e, idx)"
   ]
  },
  {
   "cell_type": "code",
   "execution_count": 521,
   "metadata": {},
   "outputs": [],
   "source": [
    "pickle_out('babelnet_dict_redo', babelnet_dict)"
   ]
  },
  {
   "cell_type": "code",
   "execution_count": 455,
   "metadata": {},
   "outputs": [],
   "source": [
    "pickle_out('babelnet_dict', babelnet_dict)"
   ]
  },
  {
   "cell_type": "code",
   "execution_count": null,
   "metadata": {},
   "outputs": [],
   "source": []
  },
  {
   "cell_type": "code",
   "execution_count": null,
   "metadata": {},
   "outputs": [],
   "source": []
  },
  {
   "cell_type": "code",
   "execution_count": null,
   "metadata": {},
   "outputs": [],
   "source": []
  },
  {
   "cell_type": "code",
   "execution_count": null,
   "metadata": {},
   "outputs": [],
   "source": []
  },
  {
   "cell_type": "code",
   "execution_count": null,
   "metadata": {},
   "outputs": [],
   "source": []
  },
  {
   "cell_type": "code",
   "execution_count": null,
   "metadata": {},
   "outputs": [],
   "source": []
  },
  {
   "cell_type": "code",
   "execution_count": null,
   "metadata": {},
   "outputs": [],
   "source": []
  },
  {
   "cell_type": "code",
   "execution_count": null,
   "metadata": {},
   "outputs": [],
   "source": []
  },
  {
   "cell_type": "code",
   "execution_count": null,
   "metadata": {},
   "outputs": [],
   "source": []
  },
  {
   "cell_type": "code",
   "execution_count": null,
   "metadata": {},
   "outputs": [],
   "source": []
  },
  {
   "cell_type": "code",
   "execution_count": null,
   "metadata": {},
   "outputs": [],
   "source": []
  }
 ],
 "metadata": {
  "kernelspec": {
   "display_name": "Python 3",
   "language": "python",
   "name": "python3"
  },
  "language_info": {
   "codemirror_mode": {
    "name": "ipython",
    "version": 3
   },
   "file_extension": ".py",
   "mimetype": "text/x-python",
   "name": "python",
   "nbconvert_exporter": "python",
   "pygments_lexer": "ipython3",
   "version": "3.7.6"
  }
 },
 "nbformat": 4,
 "nbformat_minor": 4
}
