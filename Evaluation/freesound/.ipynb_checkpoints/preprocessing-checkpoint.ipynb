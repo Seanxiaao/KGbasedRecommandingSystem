{
 "cells": [
  {
   "cell_type": "code",
   "execution_count": 1,
   "metadata": {},
   "outputs": [],
   "source": [
    "import requests \n",
    "import os\n",
    "import pickle\n",
    "import time\n",
    "import pandas as pd"
   ]
  },
  {
   "cell_type": "code",
   "execution_count": 2,
   "metadata": {},
   "outputs": [],
   "source": [
    "def pickle_out(name, obj, default_path='./sub_result/'):\n",
    "    pickle_out = open(default_path + name + '.pickle','wb')\n",
    "    pickle.dump(obj, pickle_out)\n",
    "    pickle_out.close()\n",
    "    return\n",
    "\n",
    "def pickle_in(name, default_path='./sub_result/'):\n",
    "    pickle_in = open(default_path + name + '.pickle','rb')\n",
    "    obj = pickle.load(pickle_in)\n",
    "    pickle_in.close()\n",
    "    return obj"
   ]
  },
  {
   "cell_type": "code",
   "execution_count": 3,
   "metadata": {},
   "outputs": [],
   "source": [
    "desc_dir = './dataset/KGRec-dataset/descriptions/'\n",
    "tags_dir = './dataset/KGRec-dataset/tags/'"
   ]
  },
  {
   "cell_type": "markdown",
   "metadata": {},
   "source": [
    "# Dictionary for track_id -> description "
   ]
  },
  {
   "cell_type": "code",
   "execution_count": 4,
   "metadata": {},
   "outputs": [],
   "source": [
    "desc_dict = {}\n",
    "for root, dirs, files in os.walk(desc_dir):\n",
    "    for f in files:\n",
    "        full_path = root + f\n",
    "        with open(full_path, 'r') as read_file:\n",
    "            lines = read_file.readlines()\n",
    "            lines = ' '.join(lines)\n",
    "            lines = lines.replace('\\n', '')\n",
    "            text = lines[:4000]\n",
    "            text = text.replace('#', '')\n",
    "            text = text.replace(':', '')\n",
    "            text = text.replace('`', '')\n",
    "            text = text.replace('@', '')\n",
    "            desc_dict[int(f.split('.')[0])] = text"
   ]
  },
  {
   "cell_type": "markdown",
   "metadata": {},
   "source": [
    "# Dictionary for track_id -> tags"
   ]
  },
  {
   "cell_type": "code",
   "execution_count": 9,
   "metadata": {},
   "outputs": [],
   "source": [
    "tags_dict = {}\n",
    "for root, dirs, files in os.walk(tags_dir):\n",
    "    for f in files:\n",
    "        full_path = root + f\n",
    "        with open(full_path, 'r') as read_file:\n",
    "            lines = read_file.readlines()\n",
    "            if lines:\n",
    "                lines = ' '.join(lines)\n",
    "                text = lines[:1500]\n",
    "                text = text.replace('#', '')\n",
    "                text = text.replace(':', '')\n",
    "                text = text.replace('`', '')\n",
    "                text = text.replace('@', '')\n",
    "                tags_dict[int(f.split('.')[0])] = text"
   ]
  },
  {
   "cell_type": "code",
   "execution_count": 11,
   "metadata": {},
   "outputs": [],
   "source": [
    "pickle_out('desc_dict', desc_dict)\n",
    "pickle_out('tags_dict', tags_dict)"
   ]
  },
  {
   "cell_type": "code",
   "execution_count": 14,
   "metadata": {},
   "outputs": [
    {
     "name": "stdout",
     "output_type": "stream",
     "text": [
      "# of total tracks: 21552\n"
     ]
    }
   ],
   "source": [
    "track_id_list = sorted(list(set(desc_dict.keys()) | set(tags_dict.keys())))\n",
    "pickle_out('track_id_list', track_id_list)\n",
    "print(f'# of total tracks: {len(track_id_list)}')"
   ]
  },
  {
   "cell_type": "code",
   "execution_count": 15,
   "metadata": {},
   "outputs": [],
   "source": [
    "merged_text_dict = {}\n",
    "for idx in track_id_list:\n",
    "    merged_text = ''\n",
    "    if idx in desc_dict:\n",
    "        merged_text += desc_dict[idx]\n",
    "    if idx in tags_dict:\n",
    "        merged_text += tags_dict[idx]\n",
    "    merged_text_dict[idx] = merged_text"
   ]
  },
  {
   "cell_type": "code",
   "execution_count": 16,
   "metadata": {},
   "outputs": [],
   "source": [
    "pickle_out('merged_text_dict', merged_text_dict)"
   ]
  },
  {
   "cell_type": "code",
   "execution_count": 19,
   "metadata": {},
   "outputs": [
    {
     "data": {
      "text/plain": [
       "21552"
      ]
     },
     "execution_count": 19,
     "metadata": {},
     "output_type": "execute_result"
    }
   ],
   "source": [
    "len(track_id_list)"
   ]
  },
  {
   "cell_type": "code",
   "execution_count": 76,
   "metadata": {},
   "outputs": [],
   "source": [
    "# babelnet user api key\n",
    "key1 = 'aad4522a-5d4a-44a9-8547-294ec523dab9'\n",
    "key2 = '6ff8c462-16a7-478c-b2e6-e70dc48fe678'\n",
    "key3 = '6f14fa68-12e9-487c-af7d-759dc64ef2eb'\n",
    "key4 = '7c1c1ae5-deee-4b02-882c-14f1ec04feef'\n",
    "key5 = '93ba3e99-19db-42e3-9c39-132ad80c0720'\n",
    "key6 = '9bb94618-1028-48b8-ac3d-9eac001ed668'\n",
    "key7 = '9cdfc33e-3661-48df-a02c-4283b1c09504'\n",
    "key8 = 'a2565707-778e-41d3-801d-bed548c81b2e'\n",
    "key9 = 'f1fac4d0-ad75-4b07-87e5-d0eb2d997c60'\n",
    "key10 = '24c33124-c35b-49ba-8fd9-e1811ccce346'\n",
    "\n",
    "key11 = '71a12178-9465-41ff-aba9-21823faf3077'\n",
    "key12 = 'd2b0952d-204e-44e4-9b97-74be6a82ac0b'\n",
    "key13 = '18f08e93-7aa1-473d-89b0-8b74ab3c017e'\n",
    "# t1 = track_id_list[:1000]\n",
    "# t2 = track_id_list[1000:2000]\n",
    "# t3 = track_id_list[2000:3000]\n",
    "# t4 = track_id_list[3000:4000]\n",
    "# t5 = track_id_list[4000:5000]\n",
    "# t6 = track_id_list[5000:6000]\n",
    "# t7 = track_id_list[6000:7000]\n",
    "# t8 = track_id_list[7000:8000]\n",
    "# t9 = track_id_list[8000:9000]\n",
    "\n",
    "# t1 = track_id_list[9000:10000]\n",
    "# t2 = track_id_list[10000:11000]\n",
    "# t3 = track_id_list[11000:12000]\n",
    "# t4 = track_id_list[12000:13000]\n",
    "# t5 = track_id_list[13000:14000]\n",
    "# t6 = track_id_list[14000:15000]\n",
    "# t7 = track_id_list[15000:16000]\n",
    "# t8 = track_id_list[16000:17000]\n",
    "# t9 = track_id_list[17000:18000]\n",
    "# t10 = track_id_list[18000:19000]\n",
    "\n",
    "t1 = track_id_list[19000:20000]\n",
    "t2 = track_id_list[21000:22000]\n",
    "t3 = track_id_list[22000:]\n",
    "\n",
    "# request_list = \\\n",
    "# [(key1, t1),  (key2, t2),  (key3, t3),\n",
    "#  (key4, t4),  (key5, t5),  (key6, t6),\n",
    "#  (key7, t7),  (key8, t8),  (key9, t9), (key10, t10)]\n",
    "\n",
    "request_list = \\\n",
    "[(key11, t1),  (key12, t2),  (key13, t3)]"
   ]
  },
  {
   "cell_type": "code",
   "execution_count": 78,
   "metadata": {
    "scrolled": true
   },
   "outputs": [],
   "source": [
    "URL_prefix = 'https://babelfy.io/v1/disambiguate?text='\n",
    "for (key, t) in request_list:\n",
    "    for idx in t:\n",
    "        if not idx in babelnet_dict:\n",
    "            try:\n",
    "                text = merged_text_dict[idx]\n",
    "                URL = URL_prefix + text + '&lang=en&key=' + key\n",
    "                r = requests.get(url = URL, headers={'Accept-Encoding': 'identity'})\n",
    "                babelnet_dict[idx] = r\n",
    "                if idx % 100 == 0:\n",
    "                    print(f'{idx} idx is being processed.')\n",
    "                time.sleep(0.05)\n",
    "            except BaseException as e:\n",
    "                print(e, idx)"
   ]
  },
  {
   "cell_type": "code",
   "execution_count": 95,
   "metadata": {},
   "outputs": [],
   "source": [
    "pickle_out('babelnet_dict', babelnet_dict)"
   ]
  },
  {
   "cell_type": "code",
   "execution_count": 96,
   "metadata": {},
   "outputs": [],
   "source": [
    "non_ok_key = []\n",
    "for key in track_id_list:\n",
    "    if (not key in babelnet_dict)\\\n",
    "        or (not babelnet_dict[key].ok)\\\n",
    "        or (not isinstance(babelnet_dict[key].json(), list)):\n",
    "        non_ok_key.append(key)"
   ]
  },
  {
   "cell_type": "code",
   "execution_count": 97,
   "metadata": {},
   "outputs": [
    {
     "data": {
      "text/plain": [
       "0"
      ]
     },
     "execution_count": 97,
     "metadata": {},
     "output_type": "execute_result"
    }
   ],
   "source": [
    "len(non_ok_key)"
   ]
  },
  {
   "cell_type": "code",
   "execution_count": 91,
   "metadata": {},
   "outputs": [
    {
     "name": "stdout",
     "output_type": "stream",
     "text": [
      "0 idx is being processed.\n"
     ]
    }
   ],
   "source": [
    "URL_prefix = 'https://babelfy.io/v1/disambiguate?text='\n",
    "\n",
    "for i, idx in enumerate(non_ok_key):\n",
    "    try:\n",
    "        text = merged_text_dict[idx]\n",
    "        URL = URL_prefix + text + '&lang=EN&key=' + key12\n",
    "        r = requests.get(url = URL, headers={'Accept-Encoding': 'identity'})\n",
    "        babelnet_dict[idx] = r\n",
    "        if i % 100 == 0:\n",
    "            print(f'{i} idx is being processed.')\n",
    "        time.sleep(0.1)\n",
    "    except BaseException as e:\n",
    "        print(e, idx)"
   ]
  },
  {
   "cell_type": "code",
   "execution_count": null,
   "metadata": {},
   "outputs": [],
   "source": []
  },
  {
   "cell_type": "code",
   "execution_count": null,
   "metadata": {},
   "outputs": [],
   "source": []
  },
  {
   "cell_type": "code",
   "execution_count": null,
   "metadata": {},
   "outputs": [],
   "source": []
  },
  {
   "cell_type": "code",
   "execution_count": null,
   "metadata": {},
   "outputs": [],
   "source": []
  },
  {
   "cell_type": "code",
   "execution_count": null,
   "metadata": {},
   "outputs": [],
   "source": []
  },
  {
   "cell_type": "code",
   "execution_count": null,
   "metadata": {},
   "outputs": [],
   "source": []
  },
  {
   "cell_type": "code",
   "execution_count": null,
   "metadata": {},
   "outputs": [],
   "source": []
  }
 ],
 "metadata": {
  "kernelspec": {
   "display_name": "Python 3",
   "language": "python",
   "name": "python3"
  },
  "language_info": {
   "codemirror_mode": {
    "name": "ipython",
    "version": 3
   },
   "file_extension": ".py",
   "mimetype": "text/x-python",
   "name": "python",
   "nbconvert_exporter": "python",
   "pygments_lexer": "ipython3",
   "version": "3.7.6"
  }
 },
 "nbformat": 4,
 "nbformat_minor": 4
}
